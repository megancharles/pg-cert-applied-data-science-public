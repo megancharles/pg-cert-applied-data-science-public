{
 "cells": [
  {
   "cell_type": "markdown",
   "id": "607f61b3",
   "metadata": {},
   "source": [
    "Import libraries"
   ]
  },
  {
   "cell_type": "code",
   "execution_count": 1,
   "id": "cec19615",
   "metadata": {},
   "outputs": [
    {
     "name": "stderr",
     "output_type": "stream",
     "text": [
      "c:\\Users\\megan\\AppData\\Local\\Programs\\Python\\Python312\\Lib\\site-packages\\tqdm\\auto.py:21: TqdmWarning: IProgress not found. Please update jupyter and ipywidgets. See https://ipywidgets.readthedocs.io/en/stable/user_install.html\n",
      "  from .autonotebook import tqdm as notebook_tqdm\n"
     ]
    }
   ],
   "source": [
    "import pandas as pd\n",
    "import numpy as np\n",
    "from transformers import AutoTokenizer, AutoModel\n",
    "import torch\n",
    "from tqdm import tqdm\n",
    "from pathlib import Path\n",
    "tqdm.pandas()"
   ]
  },
  {
   "cell_type": "code",
   "execution_count": 2,
   "id": "43765a29",
   "metadata": {},
   "outputs": [],
   "source": [
    "try:\n",
    "    base_dir = Path(__file__).resolve().parent.parent\n",
    "except NameError:\n",
    "    base_dir = Path().resolve()"
   ]
  },
  {
   "cell_type": "markdown",
   "id": "0cd8fae5",
   "metadata": {},
   "source": [
    "1. Creating equal classes - of 335 per eco-grade, as shown in EDA"
   ]
  },
  {
   "cell_type": "code",
   "execution_count": 3,
   "id": "7cb0c974",
   "metadata": {},
   "outputs": [],
   "source": [
    "# Input\n",
    "file_path = base_dir / \"data\" / \"final\" / \"1_cleaned_ingredients.xlsx\"\n",
    "df = pd.read_excel(file_path, engine=\"openpyxl\")\n",
    "df = df[~df['ecoscore_grade'].isin(['a-plus', 'f'])]\n",
    "\n",
    "# Group by 'ecograde_score' and sample 335 rows from each group\n",
    "df_subset = df.groupby('ecoscore_grade').apply(lambda x: x.sample(n=335, random_state=42) if len(x) >= 435 else x)\n",
    "\n",
    "# Reset the index after the groupby operation\n",
    "df_subset = df_subset.reset_index(drop=True)\n",
    "\n",
    "# Output\n",
    "output_path = base_dir / \"data\" / \"final\" / \"2_cleaned_ingredients_ecograde_subset_test.xlsx\"\n",
    "df_subset.to_excel(output_path, index=False)\n"
   ]
  },
  {
   "cell_type": "markdown",
   "id": "9dbd0804",
   "metadata": {},
   "source": [
    "2. BERT tokenizer and vector embedding"
   ]
  },
  {
   "cell_type": "code",
   "execution_count": 4,
   "id": "581fb469",
   "metadata": {},
   "outputs": [
    {
     "name": "stderr",
     "output_type": "stream",
     "text": [
      "Some weights of BertModel were not initialized from the model checkpoint at alexdseo/RecipeBERT and are newly initialized: ['pooler.dense.bias', 'pooler.dense.weight']\n",
      "You should probably TRAIN this model on a down-stream task to be able to use it for predictions and inference.\n"
     ]
    },
    {
     "name": "stdout",
     "output_type": "stream",
     "text": [
      "(768,)\n"
     ]
    }
   ],
   "source": [
    "# Input\n",
    "file_path = base_dir / \"data\" / \"final\" / \"2_cleaned_ingredients_ecograde_subset_test.xlsx\"\n",
    "df = pd.read_excel(file_path, engine=\"openpyxl\")\n",
    "\n",
    "# --- Load tokenizer and model ---\n",
    "# tokenizer = BertTokenizer.from_pretrained('bert-base-uncased') - old model\n",
    "# model = BertModel.from_pretrained('bert-base-uncased') - old model\n",
    "tokenizer = AutoTokenizer.from_pretrained(\"alexdseo/RecipeBERT\")\n",
    "model = AutoModel.from_pretrained(\"alexdseo/RecipeBERT\")\n",
    "\n",
    "# Vectorisation function with expected RecipeBERT input format\n",
    "def bert_vectorize(text):\n",
    "    formatted_text = f\"ingredients: {text}\"\n",
    "    inputs = tokenizer(formatted_text, return_tensors='pt', truncation=True, padding='max_length', max_length=128)\n",
    "    with torch.no_grad():\n",
    "        outputs = model(**inputs)\n",
    "    cls_embedding = outputs.last_hidden_state[:, 0, :].squeeze().numpy()  # [CLS] token embedding\n",
    "    return cls_embedding\n",
    "\n",
    "# Add BERT vector column to DataFrame\n",
    "df['bert_vector'] = df['cleaned_root_ingredients'].apply(bert_vectorize)\n",
    "X = np.stack(df['bert_vector'].values)\n",
    "\n",
    "# Apply to your DataFrame\n",
    "df['bert_vector'] = df['cleaned_root_ingredients'].apply(bert_vectorize)\n",
    "X = np.stack(df['bert_vector'].values)\n",
    "\n",
    "# Print an example shape\n",
    "print(df['bert_vector'].iloc[0].shape)\n",
    "\n",
    "# Output\n",
    "# output_dir = file_path.parent\n",
    "# np.save(output_dir / \"X_embeddings.npy\", X) "
   ]
  },
  {
   "cell_type": "code",
   "execution_count": 5,
   "id": "d14898e4",
   "metadata": {},
   "outputs": [],
   "source": [
    "vector_df = pd.DataFrame(X.tolist())  # BERT vectors\n",
    "vector_df['ecoscore_grade'] = df['ecoscore_grade'].values\n",
    "vector_df.to_csv(file_path.parent / \"3_bert_vectors_with_eco_grades_test.csv\", index=False)\n"
   ]
  },
  {
   "cell_type": "markdown",
   "id": "1563085d",
   "metadata": {},
   "source": [
    "**References**"
   ]
  },
  {
   "cell_type": "markdown",
   "id": "0fcf2b72",
   "metadata": {},
   "source": [
    "BERT vector embeddings how to (which model to use) https://airbyte.com/data-engineering-resources/bert-vector-embedding\n",
    "\n",
    "\n",
    "https://plainenglish.io/blog/bert-pytorch-implementation-prepare-dataset-part-1 Prepping data for BERT"
   ]
  }
 ],
 "metadata": {
  "kernelspec": {
   "display_name": "Python 3",
   "language": "python",
   "name": "python3"
  },
  "language_info": {
   "codemirror_mode": {
    "name": "ipython",
    "version": 3
   },
   "file_extension": ".py",
   "mimetype": "text/x-python",
   "name": "python",
   "nbconvert_exporter": "python",
   "pygments_lexer": "ipython3",
   "version": "3.12.0"
  }
 },
 "nbformat": 4,
 "nbformat_minor": 5
}
