{
 "cells": [
  {
   "cell_type": "markdown",
   "id": "607f61b3",
   "metadata": {},
   "source": [
    "Import libraries"
   ]
  },
  {
   "cell_type": "code",
   "execution_count": null,
   "id": "cec19615",
   "metadata": {},
   "outputs": [],
   "source": [
    "import pandas as pd\n",
    "import numpy as np\n",
    "from transformers import AutoTokenizer, AutoModel\n",
    "import torch\n",
    "from tqdm import tqdm\n",
    "from pathlib import Path\n",
    "tqdm.pandas()"
   ]
  },
  {
   "cell_type": "code",
   "execution_count": null,
   "id": "43765a29",
   "metadata": {},
   "outputs": [],
   "source": [
    "try:\n",
    "    base_dir = Path(__file__).resolve().parent.parent\n",
    "except NameError:\n",
    "    base_dir = Path().resolve()"
   ]
  },
  {
   "cell_type": "markdown",
   "id": "0cd8fae5",
   "metadata": {},
   "source": [
    "1. Creating equal classes - from the cleaned ingredients dataset, create a balanced subset of the data by sampling 335 rows from each 'ecoscore_grade' group. 335 was taken from the EDA which revealed that the ecoscore_grade with the fewest rows had 335 rows. Save resulting subset of data as a new Excel file for further analysis."
   ]
  },
  {
   "cell_type": "code",
   "execution_count": null,
   "id": "7cb0c974",
   "metadata": {},
   "outputs": [],
   "source": [
    "# Input\n",
    "file_path = base_dir / \"data\" / \"final\" / \"1_cleaned_ingredients.xlsx\"\n",
    "df = pd.read_excel(file_path, engine=\"openpyxl\")\n",
    "\n",
    "# Group by 'ecograde_score' and sample 335 rows from each group\n",
    "df_subset = df.groupby('ecoscore_grade').apply(lambda x: x.sample(n=335, random_state=42) if len(x) >= 335 else x)\n",
    "\n",
    "# Reset the index after the groupby operation\n",
    "df_subset = df_subset.reset_index(drop=True)\n",
    "\n",
    "# Output\n",
    "output_path = base_dir / \"data\" / \"final\" / \"2_cleaned_ingredients_ecograde_subset.xlsx\"\n",
    "df_subset.to_excel(output_path, index=False)\n"
   ]
  },
  {
   "cell_type": "markdown",
   "id": "9dbd0804",
   "metadata": {},
   "source": [
    "2. BERT tokenizer and vector embedding - load the balanced subset of the cleaned ingredients dataset, initialise the RecipeBERT tokenizer and model, and define a function to generate BERT vector embeddings for each ingredient list. Apply this function to the DataFrame, creating a new column with the embeddings and stacking them into a NumPy array for further analysis."
   ]
  },
  {
   "cell_type": "code",
   "execution_count": null,
   "id": "581fb469",
   "metadata": {},
   "outputs": [],
   "source": [
    "# Input\n",
    "file_path = base_dir / \"data\" / \"final\" / \"2_cleaned_ingredients_ecograde_subset.xlsx\"\n",
    "df = pd.read_excel(file_path, engine=\"openpyxl\")\n",
    "\n",
    "# Load tokenizer and model\n",
    "tokenizer = AutoTokenizer.from_pretrained(\"alexdseo/RecipeBERT\")\n",
    "model = AutoModel.from_pretrained(\"alexdseo/RecipeBERT\")\n",
    "\n",
    "# Vectorisation function with expected RecipeBERT input format\n",
    "def bert_vectorize(text):\n",
    "    formatted_text = f\"ingredients: {text}\"\n",
    "    inputs = tokenizer(formatted_text, return_tensors='pt', truncation=True, padding='max_length', max_length=128)\n",
    "    with torch.no_grad():\n",
    "        outputs = model(**inputs)\n",
    "    cls_embedding = outputs.last_hidden_state[:, 0, :].squeeze().numpy()  # [CLS] token embedding\n",
    "    return cls_embedding\n",
    "\n",
    "# Add BERT vector column to DataFrame\n",
    "df['bert_vector'] = df['cleaned_root_ingredients'].apply(bert_vectorize)\n",
    "X = np.stack(df['bert_vector'].values)\n",
    "\n",
    "# Print an example shape\n",
    "print(df['bert_vector'].iloc[0].shape)"
   ]
  },
  {
   "cell_type": "markdown",
   "id": "f5e09d85",
   "metadata": {},
   "source": [
    "3. Create final dataframe - create a DataFrame from the BERT vector embeddings (`X`) and adds the corresponding `ecoscore_grade` labels from the original DataFrame. Save the resulting DataFrame as a CSV file, which allows for use of the BERT embeddings alongside their ecoscore labels in the predictive models."
   ]
  },
  {
   "cell_type": "code",
   "execution_count": null,
   "id": "d14898e4",
   "metadata": {},
   "outputs": [],
   "source": [
    "vector_df = pd.DataFrame(X.tolist())  # BERT vectors\n",
    "vector_df['ecoscore_grade'] = df['ecoscore_grade'].values\n",
    "vector_df.to_csv(file_path.parent / \"3_bert_vectors_with_eco_grades.csv\", index=False)"
   ]
  },
  {
   "cell_type": "markdown",
   "id": "1563085d",
   "metadata": {},
   "source": [
    "**References**"
   ]
  },
  {
   "cell_type": "markdown",
   "id": "0fcf2b72",
   "metadata": {},
   "source": [
    "Prepping data for BERT - https://plainenglish.io/blog/bert-pytorch-implementation-prepare-dataset-part-1\n",
    "\n",
    "BERT\n",
    "https://airbyte.com/data-engineering-resources/bert-vector-embedding"
   ]
  }
 ],
 "metadata": {
  "kernelspec": {
   "display_name": "Python 3",
   "language": "python",
   "name": "python3"
  },
  "language_info": {
   "codemirror_mode": {
    "name": "ipython",
    "version": 3
   },
   "file_extension": ".py",
   "mimetype": "text/x-python",
   "name": "python",
   "nbconvert_exporter": "python",
   "pygments_lexer": "ipython3",
   "version": "3.12.0"
  }
 },
 "nbformat": 4,
 "nbformat_minor": 5
}
