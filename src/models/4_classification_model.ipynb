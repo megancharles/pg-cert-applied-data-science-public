{
 "cells": [
  {
   "cell_type": "markdown",
   "id": "6023419e",
   "metadata": {},
   "source": [
    "Import libraries"
   ]
  },
  {
   "cell_type": "code",
   "execution_count": 1,
   "id": "9d43c40b",
   "metadata": {},
   "outputs": [],
   "source": [
    "import pandas as pd\n",
    "import numpy as np\n",
    "import matplotlib.pyplot as plt\n",
    "from scipy.stats import randint\n",
    "from sklearn.decomposition import PCA\n",
    "from sklearn.model_selection import train_test_split\n",
    "from sklearn.neighbors import KNeighborsClassifier\n",
    "from sklearn.ensemble import RandomForestClassifier\n",
    "from sklearn.metrics import classification_report, accuracy_score\n",
    "from sklearn.metrics import confusion_matrix, ConfusionMatrixDisplay\n",
    "from sklearn.model_selection import GridSearchCV\n",
    "from sklearn.model_selection import RandomizedSearchCV\n",
    "from pathlib import Path"
   ]
  },
  {
   "cell_type": "code",
   "execution_count": 2,
   "id": "324b7673",
   "metadata": {},
   "outputs": [],
   "source": [
    "try:\n",
    "    base_dir = Path(__file__).resolve().parent.parent\n",
    "except NameError:\n",
    "    base_dir = Path().resolve()"
   ]
  },
  {
   "cell_type": "markdown",
   "id": "e35e27b0",
   "metadata": {},
   "source": [
    "Importing data"
   ]
  },
  {
   "cell_type": "code",
   "execution_count": 14,
   "id": "4e49f3d4",
   "metadata": {},
   "outputs": [],
   "source": [
    "output_dir = base_dir / \"data\" / \"final\"\n",
    "df = pd.read_csv(output_dir / \"3_bert_vectors_with_eco_grades.csv\")\n",
    "X = df.drop(columns=['ecoscore_grade']).values"
   ]
  },
  {
   "cell_type": "markdown",
   "id": "8f74c207",
   "metadata": {},
   "source": [
    "1a. PCA Explained Variance - finding number of components that explains 95% variance"
   ]
  },
  {
   "cell_type": "code",
   "execution_count": null,
   "id": "822a9f8e",
   "metadata": {},
   "outputs": [],
   "source": [
    "# X is my data matrix that contains the BERT embeddings\n",
    "pca = PCA().fit(X)\n",
    "cumulative_variance = np.cumsum(pca.explained_variance_ratio_)\n",
    "\n",
    "plt.figure(figsize=(8, 5))\n",
    "plt.plot(range(1, len(cumulative_variance)+1), cumulative_variance, marker='o')\n",
    "plt.xlabel('Number of Components')\n",
    "plt.ylabel('Cumulative Explained Variance')\n",
    "plt.title('PCA Explained Variance')\n",
    "plt.grid(True)\n",
    "plt.show()\n",
    "\n",
    "# To find the number of components for 95% variance:\n",
    "n_components_95 = np.argmax(cumulative_variance >= 0.95) + 1\n",
    "print(f\"Number of components to explain 95% variance: {n_components_95}\")"
   ]
  },
  {
   "cell_type": "markdown",
   "id": "5c69d07d",
   "metadata": {},
   "source": [
    "1b. PCA Dimensionality Reduction - perform PCA (Principal Component Analysis) on the BERT embedding data to reduce its dimensionality. Fit a PCA model with 34 components, transform the data, and create a new DataFrame containing these principal components along with the original ecoscore grade labels. Prepare resulting dataset for use in classification tasks by defining the feature matrix `X` and the target variable `y`."
   ]
  },
  {
   "cell_type": "code",
   "execution_count": 16,
   "id": "f5f5c249",
   "metadata": {},
   "outputs": [],
   "source": [
    "# Fit PCA and transform\n",
    "pca = PCA(n_components=34)\n",
    "X_pca_34 = pca.fit_transform(X)\n",
    "\n",
    "# Create a DataFrame with the 34 components\n",
    "pca_columns = [f'pca_{i+1}' for i in range(34)]\n",
    "df_pca = pd.DataFrame(X_pca_34, columns=pca_columns)\n",
    "\n",
    "# Add ecoscore_grade column\n",
    "df_pca['ecoscore_grade'] = df['ecoscore_grade'].values\n",
    "\n",
    "# Defining X and y for modeling:\n",
    "X = df_pca.drop('ecoscore_grade', axis=1)\n",
    "y = df_pca['ecoscore_grade']"
   ]
  },
  {
   "cell_type": "markdown",
   "id": "ef0986d2",
   "metadata": {},
   "source": [
    "2a. KNN Hyperparameter Tuning & Model Development & Evaluation - split the PCA-transformed dataset into training and test sets, then perform hyperparameter tuning for the K-Nearest Neighbors (KNN) classifier using grid search with cross-validation. The best KNN model is selected based on accuracy, and its performance is evaluated on both the training and test sets using accuracy scores and a classification report."
   ]
  },
  {
   "cell_type": "code",
   "execution_count": 17,
   "id": "8f18bae0",
   "metadata": {},
   "outputs": [],
   "source": [
    "X_train, X_test, y_train, y_test = train_test_split(X, y, test_size=0.2, random_state=42, stratify=y)"
   ]
  },
  {
   "cell_type": "code",
   "execution_count": null,
   "id": "2e957323",
   "metadata": {},
   "outputs": [],
   "source": [
    "# Define Parameter Grid\n",
    "param_grid = {\n",
    "    'n_neighbors': range(5, 51, 2),  # Increased range for k\n",
    "    'weights': ['uniform'],          # Simplified weight scheme\n",
    "    'metric': ['minkowski'],         # Standard distance metric\n",
    "    'p': [1, 2],                     # Euclidean distance\n",
    "}\n",
    "\n",
    "# Initialise and fit GridSearchCV\n",
    "knn = KNeighborsClassifier()\n",
    "grid_search = GridSearchCV(knn, param_grid, cv=5, scoring='accuracy', n_jobs=-1)\n",
    "grid_search.fit(X_train, y_train)\n",
    "\n",
    "# Use best model for predictions\n",
    "best_model = grid_search.best_estimator_\n",
    "y_train_pred = best_model.predict(X_train)\n",
    "y_test_pred = best_model.predict(X_test)\n",
    "\n",
    "label_order = ['a-plus', 'a', 'b', 'c', 'd', 'e', 'f'] \n",
    "\n",
    "# Evaluate model performance\n",
    "print(\"Best parameters:\", grid_search.best_params_)\n",
    "print(\"Training accuracy:\", accuracy_score(y_train, y_train_pred))\n",
    "print(\"Cross-validation accuracy:\", grid_search.best_score_)\n",
    "print(\"Test accuracy:\", accuracy_score(y_test, y_test_pred))\n",
    "print(classification_report(y_test, y_test_pred, labels=label_order))"
   ]
  },
  {
   "cell_type": "markdown",
   "id": "dae16736",
   "metadata": {},
   "source": [
    "2b. KNN - Confusion Matrix for Evaluation - compute and visualise the confusion matrix for the K-Nearest Neighbors (KNN) classifier's predictions on the test set. The confusion matrix provides a detailed breakdown of correct and incorrect classifications for each ecoscore grade, helping to assess the model's performance across all classes."
   ]
  },
  {
   "cell_type": "code",
   "execution_count": null,
   "id": "c4c31a4e",
   "metadata": {},
   "outputs": [],
   "source": [
    "# Defining label order, with 'a-plus' first\n",
    "label_order = ['a-plus', 'a', 'b', 'c', 'd', 'e', 'f']  \n",
    "\n",
    "# y_test: true labels, y_pred: predicted labels\n",
    "cm = confusion_matrix(y_test, y_test_pred, labels=label_order)\n",
    "disp = ConfusionMatrixDisplay(confusion_matrix=cm, display_labels=label_order)\n",
    "disp.plot(cmap='Blues')\n",
    "plt.title('KNN Confusion Matrix')"
   ]
  },
  {
   "cell_type": "markdown",
   "id": "b46a1083",
   "metadata": {},
   "source": [
    "3a. Random Forest Classifier Hyperparameter Tuning & Model Development & Evaluation - perform hyperparameter tuning for the Random Forest classifier using randomised search with cross-validation. The best model is selected based on accuracy, and its performance is evaluated on both the training and test sets using accuracy scores and a classification report."
   ]
  },
  {
   "cell_type": "code",
   "execution_count": null,
   "id": "1b74728f",
   "metadata": {},
   "outputs": [],
   "source": [
    "# Define a reduced, randomised hyperparameter space\n",
    "param_dist = {\n",
    "    'n_estimators': randint(100, 300),               # Range of 100 to 300 trees\n",
    "    'max_depth': [1, 10, 20, 30],                    # Depths to try\n",
    "    'min_samples_split': [2, 5, 10],                 # Splits\n",
    "    'min_samples_leaf': [1, 2, 4],                   # Leaf nodes\n",
    "    'max_features': ['sqrt', 'log2', None],          # Feature selection strategies\n",
    "    'bootstrap': [True],                             # Sampling method\n",
    "    'criterion': ['gini', 'entropy']                 # Splitting criteria\n",
    "}\n",
    "\n",
    "# Define model\n",
    "rf = RandomForestClassifier(random_state=42)\n",
    "\n",
    "# Randomised Search CV\n",
    "random_search = RandomizedSearchCV(\n",
    "    estimator=rf,\n",
    "    param_distributions=param_dist,\n",
    "    n_iter=50,                    # Try 50 random combinations\n",
    "    cv=5,                         # 5-fold cross-validation\n",
    "    scoring='accuracy',          \n",
    "    n_jobs=-1,                    # Use all CPU cores\n",
    "    verbose=1,                    # Print progress\n",
    "    random_state=42\n",
    ")\n",
    "\n",
    "# Fit the model\n",
    "random_search.fit(X_train, y_train)\n",
    "\n",
    "# Evaluate\n",
    "y_pred = random_search.predict(X_test)\n",
    "y_train_pred = random_search.predict(X_train)\n",
    "print(\"Best Parameters Found:\\n\", random_search.best_params_)\n",
    "print(\"Training accuracy:\", accuracy_score(y_train, y_train_pred))\n",
    "print(\"Test accuracy:\", accuracy_score(y_test, y_pred))\n",
    "print(\"Best Cross-Validated Accuracy:\", random_search.best_score_)\n",
    "print(\"\\nClassification Report on Test Set:\\n\", classification_report(y_test, y_pred))"
   ]
  },
  {
   "cell_type": "markdown",
   "id": "4d039e20",
   "metadata": {},
   "source": [
    "3b. Random Forest Classifier Confusion Matrix - compute and visualise the confusion matrix for the Random Forest classifier's predictions on the test set. The matrix provides a detailed breakdown of the classifier's performance across all ecoscore grade classes, highlighting correct and incorrect predictions for each class."
   ]
  },
  {
   "cell_type": "code",
   "execution_count": null,
   "id": "36be87e2",
   "metadata": {},
   "outputs": [],
   "source": [
    "# Defining label order, with 'a-plus' first\n",
    "label_order = ['a-plus', 'a', 'b', 'c', 'd', 'e', 'f']  \n",
    "\n",
    "# y_test: true labels, y_pred: predicted labels from Random Forest\n",
    "cm = confusion_matrix(y_test, y_pred, labels=label_order)\n",
    "disp = ConfusionMatrixDisplay(confusion_matrix=cm, display_labels=label_order)\n",
    "disp.plot(cmap='Blues')\n",
    "plt.title('Random Forest Confusion Matrix')"
   ]
  },
  {
   "cell_type": "markdown",
   "id": "71c2628d",
   "metadata": {},
   "source": [
    "<b>References</b>\n",
    "\n",
    "Random Forest Classifier\n",
    "https://www.simplilearn.com/tutorials/machine-learning-tutorial/random-forest-algorithm#:~:text=A%20Random%20Forest%20Algorithm%20is%20a%20supervised,more%20trees%20more%20it%20will%20be%20robust. \n",
    "\n",
    "Random Forest Hyperparameter Tuning Using RandomizedSearchCV\n",
    "https://towardsdatascience.com/hyperparameter-tuning-the-random-forest-in-python-using-scikit-learn-28d2aa77dd74/\n",
    "\n",
    "KNN Hyperparameter Tuning Using GridSearchCV\n",
    "https://sklearn.org/stable/auto_examples/model_selection/plot_grid_search_stats.html"
   ]
  }
 ],
 "metadata": {
  "kernelspec": {
   "display_name": "Python 3",
   "language": "python",
   "name": "python3"
  },
  "language_info": {
   "codemirror_mode": {
    "name": "ipython",
    "version": 3
   },
   "file_extension": ".py",
   "mimetype": "text/x-python",
   "name": "python",
   "nbconvert_exporter": "python",
   "pygments_lexer": "ipython3",
   "version": "3.12.0"
  }
 },
 "nbformat": 4,
 "nbformat_minor": 5
}
